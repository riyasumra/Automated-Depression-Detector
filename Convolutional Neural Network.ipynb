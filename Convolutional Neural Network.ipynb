{
 "cells": [
  {
   "cell_type": "code",
   "execution_count": 4,
   "metadata": {},
   "outputs": [
    {
     "name": "stdout",
     "output_type": "stream",
     "text": [
      "Found 4800 files belonging to 2 classes.\n",
      "Found 1200 files belonging to 2 classes.\n",
      "Datasets loaded and normalized successfully.\n"
     ]
    }
   ],
   "source": [
    "import tensorflow as tf\n",
    "from matplotlib import pyplot as plt\n",
    "\n",
    "# Set up paths\n",
    "train_dir = 'final_image_data/train'\n",
    "val_dir = 'final_image_data/val'\n",
    "\n",
    "# Load training and validation datasets using image_dataset_from_directory\n",
    "train_dataset = tf.keras.utils.image_dataset_from_directory(\n",
    "    directory=train_dir,\n",
    "    labels='inferred',\n",
    "    label_mode='binary',\n",
    "    batch_size=10,\n",
    "    image_size=(512, 512),\n",
    "    shuffle=True\n",
    ")\n",
    "\n",
    "val_dataset = tf.keras.utils.image_dataset_from_directory(\n",
    "    directory=val_dir,\n",
    "    labels='inferred',\n",
    "    label_mode='binary',\n",
    "    batch_size=10,\n",
    "    image_size=(512, 512)\n",
    ")\n",
    "\n",
    "# Normalize pixel values to the range [0, 1]\n",
    "normalization_layer = tf.keras.layers.Rescaling(1./255)\n",
    "train_dataset = train_dataset.map(lambda x, y: (normalization_layer(x), y))\n",
    "val_dataset = val_dataset.map(lambda x, y: (normalization_layer(x), y))\n",
    "\n",
    "print(\"Datasets loaded and normalized successfully.\")"
   ]
  },
  {
   "cell_type": "code",
   "execution_count": 5,
   "metadata": {},
   "outputs": [
    {
     "name": "stderr",
     "output_type": "stream",
     "text": [
      "d:\\Major1\\venv\\lib\\site-packages\\keras\\src\\layers\\convolutional\\base_conv.py:107: UserWarning: Do not pass an `input_shape`/`input_dim` argument to a layer. When using Sequential models, prefer using an `Input(shape)` object as the first layer in the model instead.\n",
      "  super().__init__(activity_regularizer=activity_regularizer, **kwargs)\n"
     ]
    }
   ],
   "source": [
    "from tensorflow import keras\n",
    "from keras import layers, models,regularizers,callbacks\n",
    "# model\n",
    "model = models.Sequential()\n",
    "model.add(layers.Conv2D(32, (5,5), activation='relu', input_shape=(512, 512, 3)))\n",
    "model.add(layers.MaxPooling2D((4, 4), strides=4))\n",
    "model.add(layers.Conv2D(32, (3, 3), activation='relu',kernel_regularizer=regularizers.l2(0.01)))\n",
    "model.add(layers.MaxPooling2D((1, 3), strides=(1,3)))\n",
    "model.add(layers.Flatten())\n",
    "model.add(layers.Dense(128, activation='linear',kernel_regularizer=regularizers.l2(0.01)))\n",
    "model.add(layers.Dropout(0.6))\n",
    "model.add(layers.Dense(256, activation='relu',kernel_regularizer=regularizers.l2(0.0001)))\n",
    "model.add(layers.Dropout(0.8))\n",
    "model.add(layers.Dense(1, activation='sigmoid'))\n",
    "model.compile(optimizer=tf.keras.optimizers.SGD(),\n",
    "              loss=tf.keras.losses.BinaryCrossentropy(),\n",
    "              metrics=['accuracy',\n",
    "                       tf.keras.metrics.TrueNegatives(),\n",
    "                       tf.keras.metrics.TruePositives(),\n",
    "                       tf.keras.metrics.FalseNegatives(),\n",
    "                       tf.keras.metrics.FalsePositives()])\n"
   ]
  },
  {
   "cell_type": "code",
   "execution_count": null,
   "metadata": {},
   "outputs": [
    {
     "name": "stdout",
     "output_type": "stream",
     "text": [
      "Epoch 1/50\n",
      "\u001b[1m480/480\u001b[0m \u001b[32m━━━━━━━━━━━━━━━━━━━━\u001b[0m\u001b[37m\u001b[0m \u001b[1m343s\u001b[0m 707ms/step - accuracy: 0.5976 - false_negatives: 496.7734 - false_positives: 411.2765 - loss: 3.4282 - true_negatives: 795.4304 - true_positives: 706.4990 - val_accuracy: 0.7683 - val_false_negatives: 67.0000 - val_false_positives: 211.0000 - val_loss: 2.8428 - val_true_negatives: 389.0000 - val_true_positives: 533.0000\n",
      "Epoch 2/50\n",
      "\u001b[1m480/480\u001b[0m \u001b[32m━━━━━━━━━━━━━━━━━━━━\u001b[0m\u001b[37m\u001b[0m \u001b[1m331s\u001b[0m 690ms/step - accuracy: 0.7751 - false_negatives: 273.3368 - false_positives: 260.4740 - loss: 2.7861 - true_negatives: 946.5738 - true_positives: 929.5946 - val_accuracy: 0.8583 - val_false_negatives: 74.0000 - val_false_positives: 96.0000 - val_loss: 2.3136 - val_true_negatives: 504.0000 - val_true_positives: 526.0000\n",
      "Epoch 3/50\n",
      "\u001b[1m480/480\u001b[0m \u001b[32m━━━━━━━━━━━━━━━━━━━━\u001b[0m\u001b[37m\u001b[0m \u001b[1m859s\u001b[0m 868ms/step - accuracy: 0.8301 - false_negatives: 221.1143 - false_positives: 186.0125 - loss: 2.3035 - true_negatives: 1020.0457 - true_positives: 982.8066 - val_accuracy: 0.9067 - val_false_negatives: 57.0000 - val_false_positives: 55.0000 - val_loss: 1.9040 - val_true_negatives: 545.0000 - val_true_positives: 543.0000\n",
      "Epoch 4/50\n",
      "\u001b[1m480/480\u001b[0m \u001b[32m━━━━━━━━━━━━━━━━━━━━\u001b[0m\u001b[37m\u001b[0m \u001b[1m371s\u001b[0m 771ms/step - accuracy: 0.8786 - false_negatives: 150.0229 - false_positives: 133.9958 - loss: 1.8859 - true_negatives: 1071.7983 - true_positives: 1054.1621 - val_accuracy: 0.9417 - val_false_negatives: 29.0000 - val_false_positives: 41.0000 - val_loss: 1.5446 - val_true_negatives: 559.0000 - val_true_positives: 571.0000\n",
      "Epoch 5/50\n",
      "\u001b[1m480/480\u001b[0m \u001b[32m━━━━━━━━━━━━━━━━━━━━\u001b[0m\u001b[37m\u001b[0m \u001b[1m351s\u001b[0m 731ms/step - accuracy: 0.9280 - false_negatives: 87.7651 - false_positives: 85.1850 - loss: 1.5460 - true_negatives: 1122.3575 - true_positives: 1114.6715 - val_accuracy: 0.9633 - val_false_negatives: 12.0000 - val_false_positives: 32.0000 - val_loss: 1.2924 - val_true_negatives: 568.0000 - val_true_positives: 588.0000\n",
      "Epoch 6/50\n",
      "\u001b[1m480/480\u001b[0m \u001b[32m━━━━━━━━━━━━━━━━━━━━\u001b[0m\u001b[37m\u001b[0m \u001b[1m357s\u001b[0m 743ms/step - accuracy: 0.9467 - false_negatives: 61.5759 - false_positives: 61.1663 - loss: 1.2843 - true_negatives: 1145.2889 - true_positives: 1141.9480 - val_accuracy: 0.9617 - val_false_negatives: 7.0000 - val_false_positives: 39.0000 - val_loss: 1.1304 - val_true_negatives: 561.0000 - val_true_positives: 593.0000\n",
      "Epoch 7/50\n",
      "\u001b[1m480/480\u001b[0m \u001b[32m━━━━━━━━━━━━━━━━━━━━\u001b[0m\u001b[37m\u001b[0m \u001b[1m334s\u001b[0m 695ms/step - accuracy: 0.9736 - false_negatives: 32.7048 - false_positives: 35.7526 - loss: 1.0617 - true_negatives: 1170.2786 - true_positives: 1171.2433 - val_accuracy: 0.9800 - val_false_negatives: 14.0000 - val_false_positives: 10.0000 - val_loss: 0.9175 - val_true_negatives: 590.0000 - val_true_positives: 586.0000\n",
      "Epoch 8/50\n",
      "\u001b[1m480/480\u001b[0m \u001b[32m━━━━━━━━━━━━━━━━━━━━\u001b[0m\u001b[37m\u001b[0m \u001b[1m322s\u001b[0m 669ms/step - accuracy: 0.9799 - false_negatives: 26.8607 - false_positives: 27.1518 - loss: 0.8994 - true_negatives: 1179.8835 - true_positives: 1176.0831 - val_accuracy: 0.9842 - val_false_negatives: 12.0000 - val_false_positives: 7.0000 - val_loss: 0.7911 - val_true_negatives: 593.0000 - val_true_positives: 588.0000\n",
      "Epoch 9/50\n",
      "\u001b[1m480/480\u001b[0m \u001b[32m━━━━━━━━━━━━━━━━━━━━\u001b[0m\u001b[37m\u001b[0m \u001b[1m349s\u001b[0m 726ms/step - accuracy: 0.9849 - false_negatives: 21.6798 - false_positives: 20.9854 - loss: 0.7669 - true_negatives: 1184.7755 - true_positives: 1182.5385 - val_accuracy: 0.9875 - val_false_negatives: 5.0000 - val_false_positives: 10.0000 - val_loss: 0.6757 - val_true_negatives: 590.0000 - val_true_positives: 595.0000\n",
      "Epoch 10/50\n",
      "\u001b[1m480/480\u001b[0m \u001b[32m━━━━━━━━━━━━━━━━━━━━\u001b[0m\u001b[37m\u001b[0m \u001b[1m344s\u001b[0m 716ms/step - accuracy: 0.9895 - false_negatives: 11.8358 - false_positives: 9.3243 - loss: 0.6447 - true_negatives: 1197.4346 - true_positives: 1191.3846 - val_accuracy: 0.9867 - val_false_negatives: 2.0000 - val_false_positives: 14.0000 - val_loss: 0.5803 - val_true_negatives: 586.0000 - val_true_positives: 598.0000\n",
      "Epoch 11/50\n",
      "\u001b[1m480/480\u001b[0m \u001b[32m━━━━━━━━━━━━━━━━━━━━\u001b[0m\u001b[37m\u001b[0m \u001b[1m315s\u001b[0m 656ms/step - accuracy: 0.9869 - false_negatives: 17.4595 - false_positives: 19.5364 - loss: 0.5780 - true_negatives: 1186.7880 - true_positives: 1186.1954 - val_accuracy: 0.9917 - val_false_negatives: 4.0000 - val_false_positives: 6.0000 - val_loss: 0.5235 - val_true_negatives: 594.0000 - val_true_positives: 596.0000\n",
      "Epoch 12/50\n",
      "\u001b[1m287/480\u001b[0m \u001b[32m━━━━━━━━━━━\u001b[0m\u001b[37m━━━━━━━━━\u001b[0m \u001b[1m1:56\u001b[0m 605ms/step - accuracy: 0.9889 - false_negatives: 10.6341 - false_positives: 8.7631 - loss: 0.5175 - true_negatives: 709.1498 - true_positives: 711.4529"
     ]
    }
   ],
   "source": [
    "# Training the model with EarlyStopping\n",
    "history = model.fit(\n",
    "    train_dataset,\n",
    "    epochs=50,\n",
    "    validation_data=val_dataset,\n",
    "    shuffle=True,\n",
    "    callbacks=[callbacks.EarlyStopping(monitor='val_accuracy', patience=5, restore_best_weights=True)]\n",
    ")\n",
    "\n",
    "# Plotting loss\n",
    "plt.plot(history.history['loss'])\n",
    "plt.plot(history.history['val_loss'])\n",
    "plt.title('Model Loss')\n",
    "plt.ylabel('Loss')\n",
    "plt.xlabel('Epoch')\n",
    "plt.legend(['train', 'val'], loc='upper left')\n",
    "plt.show()\n",
    "\n",
    "# Plotting accuracy\n",
    "plt.plot(history.history['accuracy'])\n",
    "plt.plot(history.history['val_accuracy'])\n",
    "plt.title('Model Accuracy')\n",
    "plt.ylabel('Accuracy')\n",
    "plt.xlabel('Epoch')\n",
    "plt.legend(['train', 'val'], loc='upper left')\n",
    "plt.show()"
   ]
  },
  {
   "cell_type": "code",
   "execution_count": null,
   "metadata": {},
   "outputs": [
    {
     "name": "stdout",
     "output_type": "stream",
     "text": [
      "\u001b[1m120/120\u001b[0m \u001b[32m━━━━━━━━━━━━━━━━━━━━\u001b[0m\u001b[37m\u001b[0m \u001b[1m22s\u001b[0m 184ms/step - accuracy: 0.9841 - false_negatives: 0.0000e+00 - false_positives: 10.5455 - loss: 0.5068 - true_negatives: 294.0909 - true_positives: 305.2810\n",
      "Loss: 0.5052415132522583\n",
      "Accuracy: 0.98416668176651\n",
      "True Negatives: 581.0\n",
      "True Positives: 600.0\n",
      "False Negatives: 0.0\n",
      "False Positives: 19.0\n"
     ]
    }
   ],
   "source": [
    "results = model.evaluate(val_dataset)\n",
    "\n",
    "# Print the results\n",
    "print(\"Loss:\", results[0])\n",
    "print(\"Accuracy:\", results[1])\n",
    "print(\"True Negatives:\", results[2])\n",
    "print(\"True Positives:\", results[3])\n",
    "print(\"False Negatives:\", results[4])\n",
    "print(\"False Positives:\", results[5])"
   ]
  },
  {
   "cell_type": "code",
   "execution_count": 10,
   "metadata": {},
   "outputs": [
    {
     "name": "stderr",
     "output_type": "stream",
     "text": [
      "WARNING:absl:You are saving your model as an HDF5 file via `model.save()` or `keras.saving.save_model(model)`. This file format is considered legacy. We recommend using instead the native Keras format, e.g. `model.save('my_model.keras')` or `keras.saving.save_model(model, 'my_model.keras')`. \n"
     ]
    }
   ],
   "source": [
    "model.save(\"saved_model/my_cnn_model.h5\")"
   ]
  }
 ],
 "metadata": {
  "kernelspec": {
   "display_name": "venv",
   "language": "python",
   "name": "python3"
  },
  "language_info": {
   "codemirror_mode": {
    "name": "ipython",
    "version": 3
   },
   "file_extension": ".py",
   "mimetype": "text/x-python",
   "name": "python",
   "nbconvert_exporter": "python",
   "pygments_lexer": "ipython3",
   "version": "3.10.4"
  }
 },
 "nbformat": 4,
 "nbformat_minor": 2
}
